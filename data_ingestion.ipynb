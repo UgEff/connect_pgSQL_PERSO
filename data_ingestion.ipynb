{
 "cells": [
  {
   "cell_type": "code",
   "execution_count": 166,
   "metadata": {},
   "outputs": [],
   "source": [
    "import pandas as pd\n",
    "import numpy as np\n",
    "import psycopg2 # to connect to the database\n",
    "import dotenv # to load the variables from the .env file\n",
    "from dotenv import load_dotenv\n",
    "import os # to access the environment variables\n"
   ]
  },
  {
   "cell_type": "code",
   "execution_count": 167,
   "metadata": {},
   "outputs": [
    {
     "data": {
      "text/plain": [
       "True"
      ]
     },
     "execution_count": 167,
     "metadata": {},
     "output_type": "execute_result"
    }
   ],
   "source": [
    "load_dotenv()\n"
   ]
  },
  {
   "cell_type": "code",
   "execution_count": 168,
   "metadata": {},
   "outputs": [],
   "source": [
    "db_host=os.getenv(\"host\")\n",
    "db_port=os.getenv(\"port\")\n",
    "db_database=os.getenv(\"database\")\n",
    "db_user=os.getenv(\"user\")\n",
    "db_password=os.getenv(\"password\")\n"
   ]
  },
  {
   "cell_type": "code",
   "execution_count": 169,
   "metadata": {},
   "outputs": [
    {
     "name": "stdout",
     "output_type": "stream",
     "text": [
      "DB_HOST: localhost\n",
      "DB_PORT: 5432\n",
      "DB_NAME: MyDataBase\n",
      "DB_USER: postgres\n",
      "DB_PASSWORD: Didir\n"
     ]
    }
   ],
   "source": [
    "# print the variables\n",
    "print(f\"DB_HOST: {db_host}\")\n",
    "print(f\"DB_PORT: {db_port}\")\n",
    "print(f\"DB_NAME: {db_database}\")\n",
    "print(f\"DB_USER: {db_user}\")\n",
    "print(f\"DB_PASSWORD: {db_password}\")\n"
   ]
  },
  {
   "cell_type": "code",
   "execution_count": 170,
   "metadata": {},
   "outputs": [
    {
     "name": "stdout",
     "output_type": "stream",
     "text": [
      "['id', 'nom', 'prenom', 'age']\n",
      "(1, 'Dupont', 'Jean', 28)\n",
      "(2, 'Martin', 'Alice', 34)\n",
      "(3, 'Durand', 'Pierre', 22)\n",
      "(4, 'Lefevre', 'Sophie', 45)\n",
      "(5, 'Moreau', 'Laura', 30)\n",
      "(6, 'Bernard', 'Louis', 50)\n",
      "(7, 'Dubois', 'Emma', 27)\n",
      "(8, 'Thomas', 'Paul', 33)\n",
      "(9, 'Petit', 'Lucie', 41)\n",
      "(10, 'Robert', 'Marc', 29)\n"
     ]
    }
   ],
   "source": [
    "\n",
    "try:\n",
    "    # Connexion à la base de données\n",
    "    connection = psycopg2.connect(\n",
    "        host=db_host,\n",
    "        port=db_port,\n",
    "        database=db_database,  # Assurez-vous que c'est le bon nom de la base\n",
    "        user=db_user,\n",
    "        password=db_password\n",
    "    )\n",
    "    \n",
    "    # Création d'un curseur\n",
    "    cursor = connection.cursor()\n",
    "\n",
    "    # Exécuter la requête SQL pour récupérer les données\n",
    "    cursor.execute('SELECT * FROM MyDataBase.test_table_mdb;')\n",
    "    # keep the column names\n",
    "    column_names = [desc[0] for desc in cursor.description]\n",
    "\n",
    "    # Récupérer les résultats\n",
    "    data = cursor.fetchall()\n",
    "    \n",
    "    # Afficher les résultats\n",
    "    print(column_names)\n",
    "    for i in range(len(data)):\n",
    "        print(data[i])\n",
    "    \n",
    "\n",
    "except psycopg2.Error as e:\n",
    "    print(f\"Error executing query: {e.pgcode} - {e.pgerror}\")\n",
    "\n",
    "    \n",
    "finally:\n",
    "    # Fermeture du curseur et de la connexion\n",
    "    if cursor:\n",
    "        cursor.close()\n",
    "    if connection:\n",
    "        connection.close()\n"
   ]
  },
  {
   "cell_type": "code",
   "execution_count": 171,
   "metadata": {},
   "outputs": [],
   "source": [
    "df = pd.DataFrame(data, columns=['id', 'name','prenom','age'])\n"
   ]
  },
  {
   "cell_type": "code",
   "execution_count": 172,
   "metadata": {},
   "outputs": [
    {
     "data": {
      "text/html": [
       "<div>\n",
       "<style scoped>\n",
       "    .dataframe tbody tr th:only-of-type {\n",
       "        vertical-align: middle;\n",
       "    }\n",
       "\n",
       "    .dataframe tbody tr th {\n",
       "        vertical-align: top;\n",
       "    }\n",
       "\n",
       "    .dataframe thead th {\n",
       "        text-align: right;\n",
       "    }\n",
       "</style>\n",
       "<table border=\"1\" class=\"dataframe\">\n",
       "  <thead>\n",
       "    <tr style=\"text-align: right;\">\n",
       "      <th></th>\n",
       "      <th>id</th>\n",
       "      <th>name</th>\n",
       "      <th>prenom</th>\n",
       "      <th>age</th>\n",
       "    </tr>\n",
       "  </thead>\n",
       "  <tbody>\n",
       "    <tr>\n",
       "      <th>0</th>\n",
       "      <td>1</td>\n",
       "      <td>Dupont</td>\n",
       "      <td>Jean</td>\n",
       "      <td>28</td>\n",
       "    </tr>\n",
       "    <tr>\n",
       "      <th>1</th>\n",
       "      <td>2</td>\n",
       "      <td>Martin</td>\n",
       "      <td>Alice</td>\n",
       "      <td>34</td>\n",
       "    </tr>\n",
       "    <tr>\n",
       "      <th>2</th>\n",
       "      <td>3</td>\n",
       "      <td>Durand</td>\n",
       "      <td>Pierre</td>\n",
       "      <td>22</td>\n",
       "    </tr>\n",
       "    <tr>\n",
       "      <th>3</th>\n",
       "      <td>4</td>\n",
       "      <td>Lefevre</td>\n",
       "      <td>Sophie</td>\n",
       "      <td>45</td>\n",
       "    </tr>\n",
       "    <tr>\n",
       "      <th>4</th>\n",
       "      <td>5</td>\n",
       "      <td>Moreau</td>\n",
       "      <td>Laura</td>\n",
       "      <td>30</td>\n",
       "    </tr>\n",
       "  </tbody>\n",
       "</table>\n",
       "</div>"
      ],
      "text/plain": [
       "   id     name  prenom  age\n",
       "0   1   Dupont    Jean   28\n",
       "1   2   Martin   Alice   34\n",
       "2   3   Durand  Pierre   22\n",
       "3   4  Lefevre  Sophie   45\n",
       "4   5   Moreau   Laura   30"
      ]
     },
     "execution_count": 172,
     "metadata": {},
     "output_type": "execute_result"
    }
   ],
   "source": [
    "df.head()\n",
    "\n"
   ]
  },
  {
   "cell_type": "code",
   "execution_count": null,
   "metadata": {},
   "outputs": [],
   "source": []
  }
 ],
 "metadata": {
  "kernelspec": {
   "display_name": "base",
   "language": "python",
   "name": "python3"
  },
  "language_info": {
   "codemirror_mode": {
    "name": "ipython",
    "version": 3
   },
   "file_extension": ".py",
   "mimetype": "text/x-python",
   "name": "python",
   "nbconvert_exporter": "python",
   "pygments_lexer": "ipython3",
   "version": "3.9.18"
  }
 },
 "nbformat": 4,
 "nbformat_minor": 2
}
